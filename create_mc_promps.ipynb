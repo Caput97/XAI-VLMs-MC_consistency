{
 "cells": [
  {
   "cell_type": "code",
   "execution_count": 3,
   "id": "f04d6681",
   "metadata": {},
   "outputs": [
    {
     "ename": "JSONDecodeError",
     "evalue": "Extra data: line 2 column 1 (char 2020)",
     "output_type": "error",
     "traceback": [
      "\u001b[0;31m---------------------------------------------------------------------------\u001b[0m",
      "\u001b[0;31mJSONDecodeError\u001b[0m                           Traceback (most recent call last)",
      "Cell \u001b[0;32mIn[3], line 6\u001b[0m\n\u001b[1;32m      4\u001b[0m \u001b[38;5;66;03m# Carica il dataset originale (qui simulo una singola riga come esempio)\u001b[39;00m\n\u001b[1;32m      5\u001b[0m \u001b[38;5;28;01mwith\u001b[39;00m \u001b[38;5;28mopen\u001b[39m(\u001b[38;5;124m\"\u001b[39m\u001b[38;5;124m/home/dtesta/XAI-VLMs-MC_consistency/MAIA_rows.jsonl\u001b[39m\u001b[38;5;124m\"\u001b[39m, \u001b[38;5;124m\"\u001b[39m\u001b[38;5;124mr\u001b[39m\u001b[38;5;124m\"\u001b[39m, encoding\u001b[38;5;241m=\u001b[39m\u001b[38;5;124m\"\u001b[39m\u001b[38;5;124mutf-8\u001b[39m\u001b[38;5;124m\"\u001b[39m) \u001b[38;5;28;01mas\u001b[39;00m f:\n\u001b[0;32m----> 6\u001b[0m     original_data \u001b[38;5;241m=\u001b[39m \u001b[43mjson\u001b[49m\u001b[38;5;241;43m.\u001b[39;49m\u001b[43mload\u001b[49m\u001b[43m(\u001b[49m\u001b[43mf\u001b[49m\u001b[43m)\u001b[49m\n\u001b[1;32m      8\u001b[0m new_dataset \u001b[38;5;241m=\u001b[39m []\n\u001b[1;32m     10\u001b[0m \u001b[38;5;28;01mfor\u001b[39;00m item \u001b[38;5;129;01min\u001b[39;00m original_data:\n",
      "File \u001b[0;32m~/miniconda3/envs/MAIA.venv/lib/python3.10/json/__init__.py:293\u001b[0m, in \u001b[0;36mload\u001b[0;34m(fp, cls, object_hook, parse_float, parse_int, parse_constant, object_pairs_hook, **kw)\u001b[0m\n\u001b[1;32m    274\u001b[0m \u001b[38;5;28;01mdef\u001b[39;00m \u001b[38;5;21mload\u001b[39m(fp, \u001b[38;5;241m*\u001b[39m, \u001b[38;5;28mcls\u001b[39m\u001b[38;5;241m=\u001b[39m\u001b[38;5;28;01mNone\u001b[39;00m, object_hook\u001b[38;5;241m=\u001b[39m\u001b[38;5;28;01mNone\u001b[39;00m, parse_float\u001b[38;5;241m=\u001b[39m\u001b[38;5;28;01mNone\u001b[39;00m,\n\u001b[1;32m    275\u001b[0m         parse_int\u001b[38;5;241m=\u001b[39m\u001b[38;5;28;01mNone\u001b[39;00m, parse_constant\u001b[38;5;241m=\u001b[39m\u001b[38;5;28;01mNone\u001b[39;00m, object_pairs_hook\u001b[38;5;241m=\u001b[39m\u001b[38;5;28;01mNone\u001b[39;00m, \u001b[38;5;241m*\u001b[39m\u001b[38;5;241m*\u001b[39mkw):\n\u001b[1;32m    276\u001b[0m \u001b[38;5;250m    \u001b[39m\u001b[38;5;124;03m\"\"\"Deserialize ``fp`` (a ``.read()``-supporting file-like object containing\u001b[39;00m\n\u001b[1;32m    277\u001b[0m \u001b[38;5;124;03m    a JSON document) to a Python object.\u001b[39;00m\n\u001b[1;32m    278\u001b[0m \n\u001b[0;32m   (...)\u001b[0m\n\u001b[1;32m    291\u001b[0m \u001b[38;5;124;03m    kwarg; otherwise ``JSONDecoder`` is used.\u001b[39;00m\n\u001b[1;32m    292\u001b[0m \u001b[38;5;124;03m    \"\"\"\u001b[39;00m\n\u001b[0;32m--> 293\u001b[0m     \u001b[38;5;28;01mreturn\u001b[39;00m \u001b[43mloads\u001b[49m\u001b[43m(\u001b[49m\u001b[43mfp\u001b[49m\u001b[38;5;241;43m.\u001b[39;49m\u001b[43mread\u001b[49m\u001b[43m(\u001b[49m\u001b[43m)\u001b[49m\u001b[43m,\u001b[49m\n\u001b[1;32m    294\u001b[0m \u001b[43m        \u001b[49m\u001b[38;5;28;43mcls\u001b[39;49m\u001b[38;5;241;43m=\u001b[39;49m\u001b[38;5;28;43mcls\u001b[39;49m\u001b[43m,\u001b[49m\u001b[43m \u001b[49m\u001b[43mobject_hook\u001b[49m\u001b[38;5;241;43m=\u001b[39;49m\u001b[43mobject_hook\u001b[49m\u001b[43m,\u001b[49m\n\u001b[1;32m    295\u001b[0m \u001b[43m        \u001b[49m\u001b[43mparse_float\u001b[49m\u001b[38;5;241;43m=\u001b[39;49m\u001b[43mparse_float\u001b[49m\u001b[43m,\u001b[49m\u001b[43m \u001b[49m\u001b[43mparse_int\u001b[49m\u001b[38;5;241;43m=\u001b[39;49m\u001b[43mparse_int\u001b[49m\u001b[43m,\u001b[49m\n\u001b[1;32m    296\u001b[0m \u001b[43m        \u001b[49m\u001b[43mparse_constant\u001b[49m\u001b[38;5;241;43m=\u001b[39;49m\u001b[43mparse_constant\u001b[49m\u001b[43m,\u001b[49m\u001b[43m \u001b[49m\u001b[43mobject_pairs_hook\u001b[49m\u001b[38;5;241;43m=\u001b[39;49m\u001b[43mobject_pairs_hook\u001b[49m\u001b[43m,\u001b[49m\u001b[43m \u001b[49m\u001b[38;5;241;43m*\u001b[39;49m\u001b[38;5;241;43m*\u001b[39;49m\u001b[43mkw\u001b[49m\u001b[43m)\u001b[49m\n",
      "File \u001b[0;32m~/miniconda3/envs/MAIA.venv/lib/python3.10/json/__init__.py:346\u001b[0m, in \u001b[0;36mloads\u001b[0;34m(s, cls, object_hook, parse_float, parse_int, parse_constant, object_pairs_hook, **kw)\u001b[0m\n\u001b[1;32m    341\u001b[0m     s \u001b[38;5;241m=\u001b[39m s\u001b[38;5;241m.\u001b[39mdecode(detect_encoding(s), \u001b[38;5;124m'\u001b[39m\u001b[38;5;124msurrogatepass\u001b[39m\u001b[38;5;124m'\u001b[39m)\n\u001b[1;32m    343\u001b[0m \u001b[38;5;28;01mif\u001b[39;00m (\u001b[38;5;28mcls\u001b[39m \u001b[38;5;129;01mis\u001b[39;00m \u001b[38;5;28;01mNone\u001b[39;00m \u001b[38;5;129;01mand\u001b[39;00m object_hook \u001b[38;5;129;01mis\u001b[39;00m \u001b[38;5;28;01mNone\u001b[39;00m \u001b[38;5;129;01mand\u001b[39;00m\n\u001b[1;32m    344\u001b[0m         parse_int \u001b[38;5;129;01mis\u001b[39;00m \u001b[38;5;28;01mNone\u001b[39;00m \u001b[38;5;129;01mand\u001b[39;00m parse_float \u001b[38;5;129;01mis\u001b[39;00m \u001b[38;5;28;01mNone\u001b[39;00m \u001b[38;5;129;01mand\u001b[39;00m\n\u001b[1;32m    345\u001b[0m         parse_constant \u001b[38;5;129;01mis\u001b[39;00m \u001b[38;5;28;01mNone\u001b[39;00m \u001b[38;5;129;01mand\u001b[39;00m object_pairs_hook \u001b[38;5;129;01mis\u001b[39;00m \u001b[38;5;28;01mNone\u001b[39;00m \u001b[38;5;129;01mand\u001b[39;00m \u001b[38;5;129;01mnot\u001b[39;00m kw):\n\u001b[0;32m--> 346\u001b[0m     \u001b[38;5;28;01mreturn\u001b[39;00m \u001b[43m_default_decoder\u001b[49m\u001b[38;5;241;43m.\u001b[39;49m\u001b[43mdecode\u001b[49m\u001b[43m(\u001b[49m\u001b[43ms\u001b[49m\u001b[43m)\u001b[49m\n\u001b[1;32m    347\u001b[0m \u001b[38;5;28;01mif\u001b[39;00m \u001b[38;5;28mcls\u001b[39m \u001b[38;5;129;01mis\u001b[39;00m \u001b[38;5;28;01mNone\u001b[39;00m:\n\u001b[1;32m    348\u001b[0m     \u001b[38;5;28mcls\u001b[39m \u001b[38;5;241m=\u001b[39m JSONDecoder\n",
      "File \u001b[0;32m~/miniconda3/envs/MAIA.venv/lib/python3.10/json/decoder.py:340\u001b[0m, in \u001b[0;36mJSONDecoder.decode\u001b[0;34m(self, s, _w)\u001b[0m\n\u001b[1;32m    338\u001b[0m end \u001b[38;5;241m=\u001b[39m _w(s, end)\u001b[38;5;241m.\u001b[39mend()\n\u001b[1;32m    339\u001b[0m \u001b[38;5;28;01mif\u001b[39;00m end \u001b[38;5;241m!=\u001b[39m \u001b[38;5;28mlen\u001b[39m(s):\n\u001b[0;32m--> 340\u001b[0m     \u001b[38;5;28;01mraise\u001b[39;00m JSONDecodeError(\u001b[38;5;124m\"\u001b[39m\u001b[38;5;124mExtra data\u001b[39m\u001b[38;5;124m\"\u001b[39m, s, end)\n\u001b[1;32m    341\u001b[0m \u001b[38;5;28;01mreturn\u001b[39;00m obj\n",
      "\u001b[0;31mJSONDecodeError\u001b[0m: Extra data: line 2 column 1 (char 2020)"
     ]
    }
   ],
   "source": [
    "import json\n",
    "import random\n",
    "\n",
    "# Carica il dataset originale (qui simulo una singola riga come esempio)\n",
    "with open(\"/home/dtesta/XAI-VLMs-MC_consistency/MAIA_rows.jsonl\", \"r\", encoding=\"utf-8\") as f:\n",
    "    original_data = json.load(f)\n",
    "\n",
    "new_dataset = []\n",
    "\n",
    "for item in original_data:\n",
    "    video_id = item[\"video_id\"]\n",
    "    category = item[\"category\"]\n",
    "    cat_split = item[\"cat_split\"]\n",
    "    captions = item[\"captions\"]\n",
    "    foils = item[\"foils\"]\n",
    "\n",
    "    for i in range(8):\n",
    "        caption = captions[i]\n",
    "        foil = foils[i]\n",
    "        pool = i + 1\n",
    "\n",
    "        # Randomizza l'ordine tra caption e foil nel prompt\n",
    "        if random.random() < 0.5:\n",
    "            prompt = f\"Scegli la descrizione corretta:\\nA. {caption}\\nB. {foil}\\nRispondi solo A o B\"\n",
    "            target = 0\n",
    "        else:\n",
    "            prompt = f\"Scegli la descrizione corretta:\\nA. {foil}\\nB. {caption}\\nRispondi solo A o B\"\n",
    "            target = 1\n",
    "\n",
    "        new_entry = {\n",
    "            \"video_id\": video_id,\n",
    "            \"category\": category,\n",
    "            \"cat_split\": cat_split,\n",
    "            \"caption\": caption,\n",
    "            \"foil\": foil,\n",
    "            \"pool\": pool,\n",
    "            \"prompt\": prompt,\n",
    "            \"target\": target\n",
    "        }\n",
    "\n",
    "        new_dataset.append(new_entry)\n",
    "\n",
    "# Salva il nuovo dataset\n",
    "with open(\"caption_foil_prompt_dataset.json\", \"w\", encoding=\"utf-8\") as f:\n",
    "    json.dump(new_dataset, f, ensure_ascii=False, indent=2)\n"
   ]
  },
  {
   "cell_type": "code",
   "execution_count": 4,
   "id": "a556867a",
   "metadata": {},
   "outputs": [
    {
     "data": {
      "text/plain": [
       "'/home/dtesta/XAI-VLMs-MC_consistency/MAIA_flattened_items.json'"
      ]
     },
     "execution_count": 4,
     "metadata": {},
     "output_type": "execute_result"
    }
   ],
   "source": [
    "import json\n",
    "import random\n",
    "from pathlib import Path\n",
    "\n",
    "# Load the original JSON file\n",
    "input_path = Path(\"/home/dtesta/XAI-VLMs-MC_consistency/MAIA_grouped.json\")\n",
    "with input_path.open(\"r\", encoding=\"utf-8\") as f:\n",
    "    data = json.load(f)\n",
    "\n",
    "# Prepare the transformed data\n",
    "transformed_data = []\n",
    "\n",
    "for video in data:\n",
    "    video_id = video.get(\"video\")\n",
    "    link = video.get(\"link\")\n",
    "    \n",
    "    for group_key in [\"question_categories_A\", \"question_categories_B\"]:\n",
    "        for qa in video.get(group_key, []):\n",
    "            category = qa.get(\"category\")\n",
    "            question = qa.get(\"question\")\n",
    "            answers = qa.get(\"answer\", [])\n",
    "            captions = qa.get(\"caption\", [])\n",
    "            foils = qa.get(\"foil\", [])\n",
    "            \n",
    "            # Process each of the 8 items\n",
    "            for i in range(min(8, len(captions), len(foils))):\n",
    "                caption = captions[i]\n",
    "                foil = foils[i]\n",
    "                \n",
    "                # Randomly assign caption and foil to A or B\n",
    "                if random.random() < 0.5:\n",
    "                    prompt = f\"Scegli la descrizione corretta:\\n A. {caption}.\\n B. {foil}.\\nRispondi solo A o B.\\n\"\n",
    "                    caption_position = 1\n",
    "                else:\n",
    "                    prompt = f\"Scegli la descrizione corretta:\\n A. {foil}.\\n B. {caption}.\\nRispondi solo A o B.\\n\"\n",
    "                    caption_position = 0\n",
    "                \n",
    "                item = {\n",
    "                    \"video_id\": video_id,\n",
    "                    \"link\": link,\n",
    "                    \"category\": category,\n",
    "                    \"question\": question,\n",
    "                    \"answer\": answers[i] if i < len(answers) else None,\n",
    "                    \"caption\": caption,\n",
    "                    \"foil\": foil,\n",
    "                    #\"item_pool_number\": f\"{video_id}_pool_{i + 1}\",\n",
    "                    \"item_pool_number\": i + 1,\n",
    "                    \"multiple_choice_prompt\": prompt,\n",
    "                    \"caption_position\": caption_position\n",
    "                }\n",
    "                transformed_data.append(item)\n",
    "\n",
    "# Save to a new JSON file\n",
    "output_path = \"/home/dtesta/XAI-VLMs-MC_consistency/MAIA_flattened_items.json\"\n",
    "with open(output_path, \"w\", encoding=\"utf-8\") as f:\n",
    "    json.dump(transformed_data, f, indent=2, ensure_ascii=False)\n",
    "\n",
    "output_path\n"
   ]
  },
  {
   "cell_type": "code",
   "execution_count": 9,
   "id": "d2427e9f",
   "metadata": {},
   "outputs": [
    {
     "name": "stdout",
     "output_type": "stream",
     "text": [
      "Numero totale di item: 19200\n",
      "Numero di item con video_id 'video1': 192\n"
     ]
    }
   ],
   "source": [
    "import json\n",
    "\n",
    "with open(\"/home/dtesta/XAI-VLMs-MC_consistency/MAIA_flattened_items.json\", \"r\", encoding=\"utf-8\") as f:\n",
    "    data = json.load(f)\n",
    "\n",
    "print(\"Numero totale di item:\", len(data))\n",
    "# Conta gli item con 'video1' nel video_id\n",
    "count = sum(1 for item in data if item.get('video_id') == 'video100')\n",
    "\n",
    "print(f\"Numero di item con video_id 'video1': {count}\")\n"
   ]
  }
 ],
 "metadata": {
  "kernelspec": {
   "display_name": "MAIA.venv",
   "language": "python",
   "name": "python3"
  },
  "language_info": {
   "codemirror_mode": {
    "name": "ipython",
    "version": 3
   },
   "file_extension": ".py",
   "mimetype": "text/x-python",
   "name": "python",
   "nbconvert_exporter": "python",
   "pygments_lexer": "ipython3",
   "version": "3.10.16"
  }
 },
 "nbformat": 4,
 "nbformat_minor": 5
}
